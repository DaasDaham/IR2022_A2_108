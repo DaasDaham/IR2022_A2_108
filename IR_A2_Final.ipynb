{
  "cells": [
    {
      "cell_type": "code",
      "execution_count": null,
      "metadata": {
        "id": "kCXpPp5B9Eiv"
      },
      "outputs": [],
      "source": [
        "!unzip Humor,Hist,Media,Food.zip"
      ]
    },
    {
      "cell_type": "code",
      "execution_count": 54,
      "metadata": {
        "colab": {
          "base_uri": "https://localhost:8080/"
        },
        "id": "Aq2fWRg0Abv9",
        "outputId": "b00150c3-8eaa-42b9-80fa-5971e62af61d"
      },
      "outputs": [
        {
          "name": "stdout",
          "output_type": "stream",
          "text": [
            "[nltk_data] Downloading package stopwords to /root/nltk_data...\n",
            "[nltk_data]   Package stopwords is already up-to-date!\n",
            "[nltk_data] Downloading package wordnet to /root/nltk_data...\n",
            "[nltk_data]   Package wordnet is already up-to-date!\n",
            "[nltk_data] Downloading package omw-1.4 to /root/nltk_data...\n",
            "[nltk_data]   Package omw-1.4 is already up-to-date!\n"
          ]
        },
        {
          "data": {
            "text/plain": [
              "True"
            ]
          },
          "execution_count": 54,
          "metadata": {},
          "output_type": "execute_result"
        }
      ],
      "source": [
        "import pickle\n",
        "import nltk\n",
        "import time\n",
        "import string\n",
        "import glob\n",
        "import pandas as pd\n",
        "import numpy as np\n",
        "from sklearn.metrics import accuracy_score, f1_score, precision_score, recall_score, classification_report, confusion_matrix, roc_auc_score, cohen_kappa_score\n",
        "import heapq\n",
        "import numpy as np\n",
        "import matplotlib.pyplot as plt\n",
        "import math\n",
        "from math import exp, sqrt, pi\n",
        "from scipy import spatial\n",
        "import copy\n",
        "\n",
        "nltk.download('stopwords')\n",
        "nltk.download('wordnet')\n",
        "nltk.download('omw-1.4')"
      ]
    },
    {
      "cell_type": "code",
      "execution_count": 55,
      "metadata": {
        "id": "E0rn8CT2AbwG"
      },
      "outputs": [],
      "source": [
        "tokenizer = nltk.tokenize.RegexpTokenizer(r\"\\w+\")\n",
        "lemmatizer = nltk.wordnet.WordNetLemmatizer()\n",
        "stemmer = nltk.stem.PorterStemmer()\n",
        "stopwords = nltk.corpus.stopwords.words()"
      ]
    },
    {
      "cell_type": "markdown",
      "metadata": {
        "id": "AhNuOAqBAbwI"
      },
      "source": [
        "# Q1"
      ]
    },
    {
      "cell_type": "markdown",
      "metadata": {
        "id": "jU_7s1arBMQK"
      },
      "source": [
        "## a)"
      ]
    },
    {
      "cell_type": "code",
      "execution_count": 56,
      "metadata": {
        "id": "WV59pM6YAbwL"
      },
      "outputs": [],
      "source": [
        "def preprocess(line):\n",
        "  '''\n",
        "  Preprocess the data\n",
        "    - Lowercase\n",
        "    - Remove Extra Spaces\n",
        "    - Lemmatize using WordNetLemmatizer()\n",
        "    - Tokenize using RegexpTokenizer()\n",
        "    - Remove stopwords\n",
        "  '''\n",
        "  line = \" \".join(line.lower().split()) #lowercase and remove extra spaces\n",
        "  #line = line.apply(lambda x: nltk.word_tokenize(x)) #tokenize\n",
        "  line = [word for word in line.split() if not word in stopwords] #remove stopwords\n",
        "  line = [lemmatizer.lemmatize(word) for word in line] #lemmatize\n",
        "  line = tokenizer.tokenize(\" \".join(line)) #tokenize\n",
        "  return set(line)\n",
        "\n",
        "data_dict = {}\n",
        "\n",
        "for n, filee in enumerate(glob.glob('Humor,Hist,Media,Food/*')):\n",
        "  with open(filee, \"r\", encoding='windows-1254', errors='ignore') as fp:\n",
        "    fp = fp.read()\n",
        "    word_set = preprocess(fp)\n",
        "    data_dict[filee.split(\"/\")[-1]] = word_set\n",
        "\n",
        "#save the index\n",
        "with open('word_index.pkl', 'wb') as fp:\n",
        "    pickle.dump(data_dict, fp)"
      ]
    },
    {
      "cell_type": "code",
      "execution_count": 57,
      "metadata": {
        "id": "JhS0ylhGAbwO"
      },
      "outputs": [],
      "source": [
        "with open('word_index.pkl', 'rb') as fp:\n",
        "    data_dict = pickle.load(fp)"
      ]
    },
    {
      "cell_type": "code",
      "execution_count": 58,
      "metadata": {
        "id": "9kncHag0AbwP"
      },
      "outputs": [],
      "source": [
        "def preprocessQuery(line):\n",
        "  '''\n",
        "  Preprocess the query\n",
        "  '''\n",
        "  line = \" \".join(line.lower().split()) #lowercase and remove extra spaces\n",
        "  line = [word for word in line.split() if not word in nltk.corpus.stopwords.words()] #remove stopwords\n",
        "  line = [lemmatizer.lemmatize(word) for word in line] #lemmatize\n",
        "  line = tokenizer.tokenize(\" \".join(line)) #tokenize\n",
        "  return set(line)\n",
        "\n",
        "def calculate_intersect(query, document, document_name):\n",
        "  '''\n",
        "  calculate intersection between doc and query\n",
        "  '''\n",
        "  return (len(query.intersection(document))/len(query.union(document)), document_name)"
      ]
    },
    {
      "cell_type": "code",
      "execution_count": 59,
      "metadata": {
        "colab": {
          "base_uri": "https://localhost:8080/"
        },
        "id": "-Mh9H4AwAbwR",
        "outputId": "e7fc5e87-6b13-47ec-c745-82f223b18c71"
      },
      "outputs": [
        {
          "name": "stdout",
          "output_type": "stream",
          "text": [
            "{'thoughtfully', 'lion', 'moment', 'stood'}\n"
          ]
        }
      ],
      "source": [
        "query = 'lion stood thoughtfully for a moment'\n",
        "query = preprocessQuery(query)\n",
        "\n",
        "print(query)"
      ]
    },
    {
      "cell_type": "code",
      "execution_count": 60,
      "metadata": {
        "id": "iI5z4aVhAbwV"
      },
      "outputs": [],
      "source": [
        "output = []\n",
        "for i in data_dict:\n",
        "    output.append(calculate_intersect(query, data_dict[i], i))\n",
        "\n",
        "heapq.heapify(output)"
      ]
    },
    {
      "cell_type": "code",
      "execution_count": 61,
      "metadata": {
        "colab": {
          "base_uri": "https://localhost:8080/"
        },
        "id": "aXLj0gxDAbwX",
        "outputId": "e7cc101e-fdbf-4172-da6d-5f64ae21db5b"
      },
      "outputs": [
        {
          "data": {
            "text/plain": [
              "[(0.012048192771084338, 'vonthomp'),\n",
              " (0.01015228426395939, 'solders.hum'),\n",
              " (0.00909090909090909, 'puzzles.jok'),\n",
              " (0.006802721088435374, 'wedding.hum'),\n",
              " (0.006688963210702341, 'phorse.hum')]"
            ]
          },
          "execution_count": 61,
          "metadata": {},
          "output_type": "execute_result"
        }
      ],
      "source": [
        "heapq.nlargest(5, output)"
      ]
    },
    {
      "cell_type": "markdown",
      "metadata": {
        "id": "lz4Mk0jXAbwY"
      },
      "source": [
        "## b)"
      ]
    },
    {
      "cell_type": "code",
      "execution_count": 62,
      "metadata": {
        "id": "1XrS7IXtAbwZ"
      },
      "outputs": [],
      "source": [
        "def preprocess(line):\n",
        "  '''\n",
        "  Preprocess the data\n",
        "    - Lowercase\n",
        "    - Remove Extra Spaces\n",
        "    - Lemmatize using WordNetLemmatizer()\n",
        "    - Tokenize using RegexpTokenizer()\n",
        "    - Remove stopwords\n",
        "  '''\n",
        "  line = \" \".join(line.lower().split()) #lowercase and remove extra spaces\n",
        "  #line = line.apply(lambda x: nltk.word_tokenize(x)) #tokenize\n",
        "  line = [word for word in line.split() if not word in stopwords] #remove stopwords\n",
        "  line = [lemmatizer.lemmatize(word) for word in line] #lemmatize\n",
        "  line = tokenizer.tokenize(\" \".join(line)) #tokenize\n",
        "  return nltk.FreqDist(line)\n",
        "\n",
        "data_dict = {}\n",
        "\n",
        "for n, filee in enumerate(glob.glob('Humor,Hist,Media,Food/*')):\n",
        "  with open(filee, \"r\", encoding='windows-1254', errors='ignore') as fp:\n",
        "    fp = fp.read()\n",
        "    freq_dict = preprocess(fp)\n",
        "  for i in freq_dict:\n",
        "    if i not in data_dict:\n",
        "      data_dict[i] = [((n, filee.split(\"/\")[-1]), freq_dict[i])]\n",
        "    else:\n",
        "      data_dict[i].append(((n, filee.split(\"/\")[-1]), freq_dict[i]))\n",
        "\n",
        "#save the index\n",
        "with open('frequency_index.pkl', 'wb') as fp:\n",
        "    pickle.dump(data_dict, fp)"
      ]
    },
    {
      "cell_type": "code",
      "execution_count": 63,
      "metadata": {
        "id": "U_fejUePAbwa"
      },
      "outputs": [],
      "source": [
        "with open('frequency_index.pkl', 'rb') as fp:\n",
        "    data_dict = pickle.load(fp)"
      ]
    },
    {
      "cell_type": "code",
      "execution_count": 76,
      "metadata": {
        "id": "z6dHIjwfAbwb"
      },
      "outputs": [],
      "source": [
        "filenames = glob.glob('Humor,Hist,Media,Food/*')\n",
        "vocab = list(data_dict.keys())\n",
        "tf_idf_mat = np.zeros((len(filenames), len(data_dict)))\n",
        "\n",
        "def preprocessQuery(line):\n",
        "  '''\n",
        "  Preprocess the query\n",
        "  '''\n",
        "  line = \" \".join(line.lower().split()) #lowercase and remove extra spaces\n",
        "  line = [word for word in line.split() if not word in nltk.corpus.stopwords.words()] #remove stopwords\n",
        "  line = [lemmatizer.lemmatize(word) for word in line] #lemmatize\n",
        "  line = tokenizer.tokenize(\" \".join(line)) #tokenize\n",
        "  return set(line)\n",
        "\n",
        "for n, i in enumerate(list(data_dict.keys())):\n",
        "    for doc in data_dict[i]:\n",
        "        tf_idf_mat[doc[0][0]][n] = doc[1]\n",
        "\n",
        "def binary(query, matrix):\n",
        "    score_list = []\n",
        "    doc_list = np.zeros((len(filenames)))\n",
        "    for doc in range(len(doc_list)):\n",
        "        score = 0\n",
        "        for i in query:\n",
        "            score += 1 * np.log(len(filenames)/(matrix[doc][i] + 1)) if matrix[doc][i] > 0 else 0\n",
        "        score_list.append((score, filenames[doc]))\n",
        "    heapq.heapify(score_list)\n",
        "    return heapq.nlargest(5, score_list)\n",
        "\n",
        "def binary_cos(query, matrix):\n",
        "    score_list = []\n",
        "    doc_list = np.zeros((len(filenames), len(data_dict)))\n",
        "    for doc in range(len(doc_list)):\n",
        "        score = 0\n",
        "        query_vec = []\n",
        "        for i in matrix[doc]:\n",
        "            query_vec.append(1 * np.log(len(filenames)/(i + 1)) if i > 0 else 0)\n",
        "        score = 1 - spatial.distance.cosine(query_vec, query)\n",
        "        score_list.append((score, filenames[doc]))\n",
        "    heapq.heapify(score_list)\n",
        "    return heapq.nlargest(5, score_list)\n",
        "\n",
        "\n",
        "def raw_count(query, matrix):\n",
        "    score_list = []\n",
        "    doc_list = np.zeros((len(filenames)))\n",
        "    for doc in range(len(doc_list)):\n",
        "        score = 0\n",
        "        for i in query:\n",
        "            score += matrix[doc][i] * np.log(len(filenames)/(matrix[doc][i] + 1))\n",
        "        score_list.append((score, filenames[doc]))\n",
        "    heapq.heapify(score_list)\n",
        "    return heapq.nlargest(5, score_list)\n",
        "\n",
        "def raw_count_cos(query, matrix):\n",
        "    score_list = []\n",
        "    doc_list = np.zeros((len(filenames)))\n",
        "    for doc in range(len(doc_list)):\n",
        "        target_list = []\n",
        "        for i in matrix[doc]:\n",
        "            target_list.append(i * np.log(len(filenames)/(i + 1)))\n",
        "        score = 1 - spatial.distance.cosine(query, target_list)\n",
        "        score_list.append((score, filenames[doc]))\n",
        "    heapq.heapify(score_list)\n",
        "    return heapq.nlargest(5, score_list)\n",
        "\n",
        "def term_freq(query, matrix):\n",
        "    score_store = np.zeros((len(filenames), len(query)))\n",
        "    doc_list = np.zeros((len(filenames)))\n",
        "    for doc in range(len(doc_list)):\n",
        "        for n, i in enumerate(query):\n",
        "            score_store[doc][n] = matrix[doc][i]\n",
        "    sum_scores_per_doc = np.sum(matrix, axis = 1)\n",
        "    score_store_tf = score_store/np.array([sum_scores_per_doc for i in range(len(query))]).T\n",
        "    idf = np.log(len(filenames)/(score_store + 1))\n",
        "    score_store_tf_idf = score_store_tf * idf\n",
        "    sum_scores = np.sum(score_store_tf_idf, axis = 1)\n",
        "    sum_scores = [(x, filenames[n]) for n, x in enumerate(sum_scores)]\n",
        "    heapq.heapify(sum_scores)\n",
        "    return heapq.nlargest(5, sum_scores)\n",
        "\n",
        "def term_freq_cos(query, matrix):\n",
        "    score_store = copy.deepcopy(matrix)\n",
        "    doc_list = np.zeros((len(filenames)))\n",
        "    sum_scores_per_doc = np.sum(matrix, axis = 1)\n",
        "    score_store_tf = score_store/np.array([sum_scores_per_doc for i in range(len(query))]).T\n",
        "    idf = np.log(len(filenames)/(score_store + 1))\n",
        "    score_store_tf_idf = score_store_tf * idf\n",
        "    similarity_scores = score_store_tf_idf.dot(query)/ (np.linalg.norm(score_store_tf_idf, axis=1) * np.linalg.norm(query))\n",
        "    #sum_scores = np.sum(score_store_tf_idf, axis = 1)\n",
        "    sum_scores = [(x, filenames[n]) for n, x in enumerate(similarity_scores)]\n",
        "    heapq.heapify(sum_scores)\n",
        "    return heapq.nlargest(5, sum_scores)\n",
        "\n",
        "def log_norm(query, matrix):\n",
        "    score_list = []\n",
        "    doc_list = np.zeros((len(filenames)))\n",
        "    for doc in range(len(doc_list)):\n",
        "        score = 0\n",
        "        for i in query:\n",
        "            score += np.log(1 + matrix[doc][i]) * np.log(len(filenames)/(matrix[doc][i] + 1))\n",
        "        score_list.append((score, filenames[doc]))\n",
        "    heapq.heapify(score_list)\n",
        "    return heapq.nlargest(5, score_list)\n",
        "\n",
        "def log_norm_cos(query, matrix):\n",
        "    score_list = []\n",
        "    doc_list = np.zeros((len(filenames)))\n",
        "    for doc in range(len(doc_list)):\n",
        "        score = 0\n",
        "        query_vec = []\n",
        "        for i in matrix[doc]:\n",
        "            query_vec.append(np.log(1 + i) * np.log(len(filenames)/(i + 1)))\n",
        "        score = 1 - spatial.distance.cosine(query_vec, query)\n",
        "        score_list.append((score, filenames[doc]))\n",
        "    heapq.heapify(score_list)\n",
        "    return heapq.nlargest(5, score_list)\n",
        "\n",
        "def double_norm(query, matrix):\n",
        "    score_store = np.zeros((len(filenames), len(query)))\n",
        "    doc_list = np.zeros((len(filenames)))\n",
        "    for doc in range(len(doc_list)):\n",
        "        for n, i in enumerate(query):\n",
        "            score_store[doc][n] = matrix[doc][i]\n",
        "    max_query = matrix.max(axis = 1)\n",
        "    score_store_tf = 0.5 + 0.5*(score_store/np.array([max_query for i in range(len(query))]).T)\n",
        "    idf = np.log(len(filenames)/(score_store + 1))\n",
        "    score_store_tf_idf = score_store_tf * idf\n",
        "    sum_scores = np.sum(score_store_tf_idf, axis = 1)\n",
        "    sum_scores = [(x, filenames[n]) for n, x in enumerate(sum_scores)]\n",
        "    heapq.heapify(sum_scores)\n",
        "    return heapq.nlargest(5, sum_scores)\n",
        "\n",
        "def double_norm_cos(query, matrix):\n",
        "    score_store = copy.deepcopy(matrix)\n",
        "    doc_list = np.zeros((len(filenames)))\n",
        "    max_query = matrix.max(axis = 1)\n",
        "    score_store_tf = 0.5 + 0.5*(score_store/np.array([max_query for i in range(len(query))]).T)\n",
        "    idf = np.log(len(filenames)/(score_store + 1))\n",
        "    score_store_tf_idf = score_store_tf * idf\n",
        "    similarity_scores = score_store_tf_idf.dot(query)/ (np.linalg.norm(score_store_tf_idf, axis=1) * np.linalg.norm(query))\n",
        "    #sum_scores = np.sum(score_store_tf_idf, axis = 1)\n",
        "    sum_scores = [(x, filenames[n]) for n, x in enumerate(similarity_scores)]\n",
        "    heapq.heapify(sum_scores)\n",
        "    return heapq.nlargest(5, sum_scores)"
      ]
    },
    {
      "cell_type": "code",
      "execution_count": 65,
      "metadata": {
        "colab": {
          "base_uri": "https://localhost:8080/"
        },
        "id": "_3cUY-EsAbwe",
        "outputId": "a8d130ea-4b98-40c5-e1c2-ebe6555332b1"
      },
      "outputs": [
        {
          "name": "stdout",
          "output_type": "stream",
          "text": [
            "{'lion'}\n"
          ]
        },
        {
          "data": {
            "text/plain": [
              "array([0., 0., 0., ..., 0., 0., 0.])"
            ]
          },
          "execution_count": 65,
          "metadata": {},
          "output_type": "execute_result"
        }
      ],
      "source": [
        "query = 'lion'\n",
        "query = preprocessQuery(query)\n",
        "print(query)\n",
        "\n",
        "q = np.zeros(((len(vocab))))\n",
        "for word in query:\n",
        "    q[vocab.index(word)] = 1\n",
        "q\n"
      ]
    },
    {
      "cell_type": "markdown",
      "metadata": {
        "id": "fwAfz25S8Bpn"
      },
      "source": [
        "### Binary\n",
        " - Pros: Basic Method\n",
        " - Cons: Does not take into account the number of occurences"
      ]
    },
    {
      "cell_type": "code",
      "execution_count": 66,
      "metadata": {
        "colab": {
          "base_uri": "https://localhost:8080/"
        },
        "id": "TIP5fyw5Abwf",
        "outputId": "75f29fdf-e16b-4f7a-a35c-676043a61cf0"
      },
      "outputs": [
        {
          "data": {
            "text/plain": [
              "[(6.339477080468061, 'Humor,Hist,Media,Food/wagon.hum'),\n",
              " (6.339477080468061, 'Humor,Hist,Media,Food/tpquotes.txt'),\n",
              " (6.339477080468061, 'Humor,Hist,Media,Food/tnd.1'),\n",
              " (6.339477080468061, 'Humor,Hist,Media,Food/three.txt'),\n",
              " (6.339477080468061, 'Humor,Hist,Media,Food/puzzles.jok')]"
            ]
          },
          "execution_count": 66,
          "metadata": {},
          "output_type": "execute_result"
        }
      ],
      "source": [
        "binary(np.where(q == 1)[0], tf_idf_mat)"
      ]
    },
    {
      "cell_type": "code",
      "execution_count": 67,
      "metadata": {
        "colab": {
          "base_uri": "https://localhost:8080/"
        },
        "id": "GEIxoskMDFdH",
        "outputId": "9d86dc48-bec9-473d-b29d-51cf4ea7e275"
      },
      "outputs": [
        {
          "data": {
            "text/plain": [
              "[(0.09797382495567952, 'Humor,Hist,Media,Food/puzzles.jok'),\n",
              " (0.06600114920766997, 'Humor,Hist,Media,Food/hecomes.jok'),\n",
              " (0.06509361397080737, 'Humor,Hist,Media,Food/booze1.fun'),\n",
              " (0.053009783807091204, 'Humor,Hist,Media,Food/three.txt'),\n",
              " (0.050484563345917, 'Humor,Hist,Media,Food/wagon.hum')]"
            ]
          },
          "execution_count": 67,
          "metadata": {},
          "output_type": "execute_result"
        }
      ],
      "source": [
        "binary_cos(q, tf_idf_mat)"
      ]
    },
    {
      "cell_type": "markdown",
      "metadata": {
        "id": "GLeLAhuH8Bpp"
      },
      "source": [
        "### Raw Count\n",
        " - Pros: Takes into account the number of occurences\n",
        " - Cons: Large Documents are bound to have larger no. of occurences."
      ]
    },
    {
      "cell_type": "code",
      "execution_count": 68,
      "metadata": {
        "colab": {
          "base_uri": "https://localhost:8080/"
        },
        "id": "r9S576BOAbwf",
        "outputId": "39279e35-8f82-4ea5-8c0d-78634fb347e0"
      },
      "outputs": [
        {
          "data": {
            "text/plain": [
              "[(171.39503539309263, 'Humor,Hist,Media,Food/lions.cat'),\n",
              " (161.3129313665778, 'Humor,Hist,Media,Food/lion.jok'),\n",
              " (157.15040766477554, 'Humor,Hist,Media,Food/lion.txt'),\n",
              " (57.11637010836572, 'Humor,Hist,Media,Food/boneles2.txt'),\n",
              " (16.938989699724345, 'Humor,Hist,Media,Food/stuf10.txt')]"
            ]
          },
          "execution_count": 68,
          "metadata": {},
          "output_type": "execute_result"
        }
      ],
      "source": [
        "raw_count(np.where(q == 1)[0], tf_idf_mat)"
      ]
    },
    {
      "cell_type": "code",
      "execution_count": 69,
      "metadata": {
        "colab": {
          "base_uri": "https://localhost:8080/"
        },
        "id": "xf4M4UWDDJ8y",
        "outputId": "f6b1e322-073a-4e1b-a614-324a66536b4f"
      },
      "outputs": [
        {
          "data": {
            "text/plain": [
              "[(0.43358886578151656, 'Humor,Hist,Media,Food/lion.txt'),\n",
              " (0.43219096261072565, 'Humor,Hist,Media,Food/lion.jok'),\n",
              " (0.3826577318173554, 'Humor,Hist,Media,Food/lions.cat'),\n",
              " (0.1484552943208155, 'Humor,Hist,Media,Food/boneles2.txt'),\n",
              " (0.07344478544514443, 'Humor,Hist,Media,Food/puzzles.jok')]"
            ]
          },
          "execution_count": 69,
          "metadata": {},
          "output_type": "execute_result"
        }
      ],
      "source": [
        "raw_count_cos(q, tf_idf_mat)"
      ]
    },
    {
      "cell_type": "markdown",
      "metadata": {
        "id": "lyStw6yI8Bpq"
      },
      "source": [
        "### Term Frequency\n",
        " - Pros: Takes into account the number of occurences and normalizes them based on the size of the document."
      ]
    },
    {
      "cell_type": "code",
      "execution_count": 70,
      "metadata": {
        "colab": {
          "base_uri": "https://localhost:8080/"
        },
        "id": "T4A8cj8pAbwh",
        "outputId": "7041615a-bb4a-4e4c-fcf4-f27e87489ecb"
      },
      "outputs": [
        {
          "data": {
            "text/plain": [
              "[(0.1613453877461761, 'Humor,Hist,Media,Food/lion.txt'),\n",
              " (0.15175252245209578, 'Humor,Hist,Media,Food/lion.jok'),\n",
              " (0.12649080102811266, 'Humor,Hist,Media,Food/lions.cat'),\n",
              " (0.04766524120652677, 'Humor,Hist,Media,Food/puzzles.jok'),\n",
              " (0.03939060007473498, 'Humor,Hist,Media,Food/boneles2.txt')]"
            ]
          },
          "execution_count": 70,
          "metadata": {},
          "output_type": "execute_result"
        }
      ],
      "source": [
        "term_freq(np.where(q == 1)[0], tf_idf_mat)"
      ]
    },
    {
      "cell_type": "code",
      "execution_count": 71,
      "metadata": {
        "colab": {
          "base_uri": "https://localhost:8080/"
        },
        "id": "dHtFqxAzDN4A",
        "outputId": "8e932cd1-10b0-4f61-9856-b030a0ae1553"
      },
      "outputs": [
        {
          "data": {
            "text/plain": [
              "[(0.43358886578151656, 'Humor,Hist,Media,Food/lion.txt'),\n",
              " (0.4321909626107256, 'Humor,Hist,Media,Food/lion.jok'),\n",
              " (0.3826577318173556, 'Humor,Hist,Media,Food/lions.cat'),\n",
              " (0.1484552943208155, 'Humor,Hist,Media,Food/boneles2.txt'),\n",
              " (0.07344478544514443, 'Humor,Hist,Media,Food/puzzles.jok')]"
            ]
          },
          "execution_count": 71,
          "metadata": {},
          "output_type": "execute_result"
        }
      ],
      "source": [
        "term_freq_cos(q, tf_idf_mat)"
      ]
    },
    {
      "cell_type": "markdown",
      "metadata": {
        "id": "w0i0jK0h8Bpr"
      },
      "source": [
        "### Log Normalization\n",
        " - Pros: Log normailized Basic Method\n",
        " - Cons: Does not take into account the number of occurences"
      ]
    },
    {
      "cell_type": "code",
      "execution_count": 72,
      "metadata": {
        "colab": {
          "base_uri": "https://localhost:8080/"
        },
        "id": "r4_zae0VAbwh",
        "outputId": "57b1631f-045a-48ab-bb38-5b6de8fbd219"
      },
      "outputs": [
        {
          "data": {
            "text/plain": [
              "[(12.175285512901077, 'Humor,Hist,Media,Food/lion.txt'),\n",
              " (12.141032258977294, 'Humor,Hist,Media,Food/lion.jok'),\n",
              " (12.049477146808298, 'Humor,Hist,Media,Food/lions.cat'),\n",
              " (11.594875013500031, 'Humor,Hist,Media,Food/boneles2.txt'),\n",
              " (7.827475301265257, 'Humor,Hist,Media,Food/stuf10.txt')]"
            ]
          },
          "execution_count": 72,
          "metadata": {},
          "output_type": "execute_result"
        }
      ],
      "source": [
        "log_norm(np.where(q == 1)[0], tf_idf_mat)"
      ]
    },
    {
      "cell_type": "code",
      "execution_count": 73,
      "metadata": {
        "colab": {
          "base_uri": "https://localhost:8080/"
        },
        "id": "G3WHKNWGDRqz",
        "outputId": "3ac690ae-43e9-4010-d494-58170adb94d3"
      },
      "outputs": [
        {
          "data": {
            "text/plain": [
              "[(0.09545750141976062, 'Humor,Hist,Media,Food/lion.txt'),\n",
              " (0.09069150015369865, 'Humor,Hist,Media,Food/lion.jok'),\n",
              " (0.08589998316319192, 'Humor,Hist,Media,Food/puzzles.jok'),\n",
              " (0.0808484963678402, 'Humor,Hist,Media,Food/lions.cat'),\n",
              " (0.0717474284448123, 'Humor,Hist,Media,Food/boneles2.txt')]"
            ]
          },
          "execution_count": 73,
          "metadata": {},
          "output_type": "execute_result"
        }
      ],
      "source": [
        "log_norm_cos(q, tf_idf_mat)"
      ]
    },
    {
      "cell_type": "markdown",
      "metadata": {
        "id": "SG0OfTEA8Bps"
      },
      "source": [
        "### Double Normalization\n",
        " - Pros: Normalizes based on maximum frequency in a document\n",
        " - Cons: CAn lead to different results because it only used the max frequency"
      ]
    },
    {
      "cell_type": "code",
      "execution_count": 77,
      "metadata": {
        "colab": {
          "base_uri": "https://localhost:8080/"
        },
        "id": "3mt6xm6TAbwi",
        "outputId": "5943ba68-67ee-4428-abd3-a4a34d7c2810"
      },
      "outputs": [
        {
          "data": {
            "text/plain": [
              "[(3.8036862482808367, 'Humor,Hist,Media,Food/puzzles.jok'),\n",
              " (3.565955857763284, 'Humor,Hist,Media,Food/wagon.hum'),\n",
              " (3.565955857763284, 'Humor,Hist,Media,Food/drunk.txt'),\n",
              " (3.5163121305140033, 'Humor,Hist,Media,Food/zuccmush.sal'),\n",
              " (3.5163121305140033, 'Humor,Hist,Media,Food/zucantom.sal')]"
            ]
          },
          "execution_count": 77,
          "metadata": {},
          "output_type": "execute_result"
        }
      ],
      "source": [
        "double_norm(np.where(q == 1)[0], tf_idf_mat)"
      ]
    },
    {
      "cell_type": "code",
      "execution_count": 79,
      "metadata": {
        "colab": {
          "base_uri": "https://localhost:8080/"
        },
        "id": "nqKYv5UrDVQR",
        "outputId": "27cd5d60-d5f2-4907-d9d8-d156281b7ca2"
      },
      "outputs": [
        {
          "data": {
            "text/plain": [
              "[(0.004089083501565676, 'Humor,Hist,Media,Food/puzzles.jok'),\n",
              " (0.0038333917608823517, 'Humor,Hist,Media,Food/wagon.hum'),\n",
              " (0.0038333448046986335, 'Humor,Hist,Media,Food/drunk.txt'),\n",
              " (0.0038320392397851954, 'Humor,Hist,Media,Food/mlverb.hum'),\n",
              " (0.0038293514311648065, 'Humor,Hist,Media,Food/humor9.txt')]"
            ]
          },
          "execution_count": 79,
          "metadata": {},
          "output_type": "execute_result"
        }
      ],
      "source": [
        "double_norm_cos(q, tf_idf_mat)"
      ]
    },
    {
      "cell_type": "markdown",
      "metadata": {
        "id": "8t4IjQIfHLTW"
      },
      "source": [
        "# Q2"
      ]
    },
    {
      "cell_type": "code",
      "execution_count": 1,
      "metadata": {
        "colab": {
          "base_uri": "https://localhost:8080/"
        },
        "id": "Mbh-pfH4HN8N",
        "outputId": "09d8b616-9e8c-472a-915d-12a211159bd2"
      },
      "outputs": [],
      "source": [
        "import numpy as np\n",
        "import pandas as pd\n",
        "docs = []\n",
        "with open(\"IR-assignment-2-data.txt\", \"r\") as data_file:\n",
        "    for line in data_file:\n",
        "        line = line.split(\" \")\n",
        "        relevance_score = float(line[0])\n",
        "        qid = int(line[1].split(\":\")[1])\n",
        "        if qid == 4:\n",
        "            docs.append([relevance_score, qid, line[74].split(\":\")[1]])"
      ]
    },
    {
      "cell_type": "code",
      "execution_count": 2,
      "metadata": {
        "id": "Jb222X4uHN-9"
      },
      "outputs": [
        {
          "data": {
            "text/html": [
              "<div>\n",
              "<style scoped>\n",
              "    .dataframe tbody tr th:only-of-type {\n",
              "        vertical-align: middle;\n",
              "    }\n",
              "\n",
              "    .dataframe tbody tr th {\n",
              "        vertical-align: top;\n",
              "    }\n",
              "\n",
              "    .dataframe thead th {\n",
              "        text-align: right;\n",
              "    }\n",
              "</style>\n",
              "<table border=\"1\" class=\"dataframe\">\n",
              "  <thead>\n",
              "    <tr style=\"text-align: right;\">\n",
              "      <th></th>\n",
              "      <th>relevance_score</th>\n",
              "      <th>qid</th>\n",
              "      <th>sum_tf_idf</th>\n",
              "    </tr>\n",
              "  </thead>\n",
              "  <tbody>\n",
              "    <tr>\n",
              "      <th>0</th>\n",
              "      <td>0.0</td>\n",
              "      <td>4</td>\n",
              "      <td>30.667985</td>\n",
              "    </tr>\n",
              "    <tr>\n",
              "      <th>1</th>\n",
              "      <td>0.0</td>\n",
              "      <td>4</td>\n",
              "      <td>42.200053</td>\n",
              "    </tr>\n",
              "    <tr>\n",
              "      <th>2</th>\n",
              "      <td>0.0</td>\n",
              "      <td>4</td>\n",
              "      <td>30.667985</td>\n",
              "    </tr>\n",
              "    <tr>\n",
              "      <th>3</th>\n",
              "      <td>0.0</td>\n",
              "      <td>4</td>\n",
              "      <td>30.282169</td>\n",
              "    </tr>\n",
              "    <tr>\n",
              "      <th>4</th>\n",
              "      <td>1.0</td>\n",
              "      <td>4</td>\n",
              "      <td>51.189287</td>\n",
              "    </tr>\n",
              "    <tr>\n",
              "      <th>...</th>\n",
              "      <td>...</td>\n",
              "      <td>...</td>\n",
              "      <td>...</td>\n",
              "    </tr>\n",
              "    <tr>\n",
              "      <th>98</th>\n",
              "      <td>0.0</td>\n",
              "      <td>4</td>\n",
              "      <td>28.523293</td>\n",
              "    </tr>\n",
              "    <tr>\n",
              "      <th>99</th>\n",
              "      <td>1.0</td>\n",
              "      <td>4</td>\n",
              "      <td>43.573113</td>\n",
              "    </tr>\n",
              "    <tr>\n",
              "      <th>100</th>\n",
              "      <td>2.0</td>\n",
              "      <td>4</td>\n",
              "      <td>40.644463</td>\n",
              "    </tr>\n",
              "    <tr>\n",
              "      <th>101</th>\n",
              "      <td>1.0</td>\n",
              "      <td>4</td>\n",
              "      <td>13.67676</td>\n",
              "    </tr>\n",
              "    <tr>\n",
              "      <th>102</th>\n",
              "      <td>0.0</td>\n",
              "      <td>4</td>\n",
              "      <td>28.523293</td>\n",
              "    </tr>\n",
              "  </tbody>\n",
              "</table>\n",
              "<p>103 rows × 3 columns</p>\n",
              "</div>"
            ],
            "text/plain": [
              "    relevance_score qid sum_tf_idf\n",
              "0               0.0   4  30.667985\n",
              "1               0.0   4  42.200053\n",
              "2               0.0   4  30.667985\n",
              "3               0.0   4  30.282169\n",
              "4               1.0   4  51.189287\n",
              "..              ...  ..        ...\n",
              "98              0.0   4  28.523293\n",
              "99              1.0   4  43.573113\n",
              "100             2.0   4  40.644463\n",
              "101             1.0   4   13.67676\n",
              "102             0.0   4  28.523293\n",
              "\n",
              "[103 rows x 3 columns]"
            ]
          },
          "execution_count": 2,
          "metadata": {},
          "output_type": "execute_result"
        }
      ],
      "source": [
        "docs = np.array(docs)\n",
        "df = pd.DataFrame(docs, columns=['relevance_score','qid', \"sum_tf_idf\"])\n",
        "df"
      ]
    },
    {
      "cell_type": "code",
      "execution_count": 3,
      "metadata": {
        "id": "TJVuO-NnHOCX"
      },
      "outputs": [],
      "source": [
        "df['relevance_score'] = df['relevance_score'].astype(float)"
      ]
    },
    {
      "cell_type": "code",
      "execution_count": 4,
      "metadata": {
        "id": "Q9XF4yljJZL9"
      },
      "outputs": [],
      "source": [
        "df_norm = df.sort_values('relevance_score', ascending=False)\n",
        "df_norm = df_norm.reset_index().drop([\"index\"], axis=1)"
      ]
    },
    {
      "cell_type": "code",
      "execution_count": 5,
      "metadata": {
        "id": "YaF5WGJYJZOl"
      },
      "outputs": [
        {
          "data": {
            "text/plain": [
              "(     relevance_score qid sum_tf_idf  idx\n",
              " 0                0.0   4  30.667985    2\n",
              " 1                0.0   4  42.200053    3\n",
              " 2                0.0   4  30.667985    4\n",
              " 3                0.0   4  30.282169    5\n",
              " 4                1.0   4  51.189287    6\n",
              " ..               ...  ..        ...  ...\n",
              " 98               0.0   4  28.523293  100\n",
              " 99               1.0   4  43.573113  101\n",
              " 100              2.0   4  40.644463  102\n",
              " 101              1.0   4   13.67676  103\n",
              " 102              0.0   4  28.523293  104\n",
              " \n",
              " [103 rows x 4 columns],\n",
              "      relevance_score qid sum_tf_idf  idx\n",
              " 0                3.0   4  45.331988    2\n",
              " 1                2.0   4  17.978469    3\n",
              " 2                2.0   4   13.67676    4\n",
              " 3                2.0   4  22.665994    5\n",
              " 4                2.0   4  25.594644    6\n",
              " ..               ...  ..        ...  ...\n",
              " 98               0.0   4          0  100\n",
              " 99               0.0   4          0  101\n",
              " 100              0.0   4  51.189287  102\n",
              " 101              0.0   4  51.189287  103\n",
              " 102              0.0   4  28.523293  104\n",
              " \n",
              " [103 rows x 4 columns])"
            ]
          },
          "execution_count": 5,
          "metadata": {},
          "output_type": "execute_result"
        }
      ],
      "source": [
        "df['idx'] = 0\n",
        "df_norm['idx'] = 0\n",
        "idx_val = 1\n",
        "for i in range(len(df)):\n",
        "    df.loc[i, \"idx\"] = idx_val+1\n",
        "    df_norm.loc[i, \"idx\"] = idx_val+1\n",
        "    idx_val+=1\n",
        "df, df_norm"
      ]
    },
    {
      "cell_type": "code",
      "execution_count": 6,
      "metadata": {
        "id": "g11-UqKZJZRb"
      },
      "outputs": [],
      "source": [
        "df['log_i'] = np.log2(df['idx'])\n",
        "df_norm['log_i'] = np.log2(df_norm['idx'])"
      ]
    },
    {
      "cell_type": "code",
      "execution_count": 7,
      "metadata": {
        "id": "pMXWKSg8JZTz"
      },
      "outputs": [
        {
          "data": {
            "text/html": [
              "<div>\n",
              "<style scoped>\n",
              "    .dataframe tbody tr th:only-of-type {\n",
              "        vertical-align: middle;\n",
              "    }\n",
              "\n",
              "    .dataframe tbody tr th {\n",
              "        vertical-align: top;\n",
              "    }\n",
              "\n",
              "    .dataframe thead th {\n",
              "        text-align: right;\n",
              "    }\n",
              "</style>\n",
              "<table border=\"1\" class=\"dataframe\">\n",
              "  <thead>\n",
              "    <tr style=\"text-align: right;\">\n",
              "      <th></th>\n",
              "      <th>relevance_score</th>\n",
              "      <th>qid</th>\n",
              "      <th>sum_tf_idf</th>\n",
              "      <th>idx</th>\n",
              "      <th>log_i</th>\n",
              "      <th>iDCG</th>\n",
              "    </tr>\n",
              "  </thead>\n",
              "  <tbody>\n",
              "    <tr>\n",
              "      <th>0</th>\n",
              "      <td>3.0</td>\n",
              "      <td>4</td>\n",
              "      <td>45.331988</td>\n",
              "      <td>2</td>\n",
              "      <td>1.000000</td>\n",
              "      <td>7.000000</td>\n",
              "    </tr>\n",
              "    <tr>\n",
              "      <th>1</th>\n",
              "      <td>2.0</td>\n",
              "      <td>4</td>\n",
              "      <td>17.978469</td>\n",
              "      <td>3</td>\n",
              "      <td>1.584963</td>\n",
              "      <td>1.892789</td>\n",
              "    </tr>\n",
              "    <tr>\n",
              "      <th>2</th>\n",
              "      <td>2.0</td>\n",
              "      <td>4</td>\n",
              "      <td>13.67676</td>\n",
              "      <td>4</td>\n",
              "      <td>2.000000</td>\n",
              "      <td>1.500000</td>\n",
              "    </tr>\n",
              "    <tr>\n",
              "      <th>3</th>\n",
              "      <td>2.0</td>\n",
              "      <td>4</td>\n",
              "      <td>22.665994</td>\n",
              "      <td>5</td>\n",
              "      <td>2.321928</td>\n",
              "      <td>1.292030</td>\n",
              "    </tr>\n",
              "    <tr>\n",
              "      <th>4</th>\n",
              "      <td>2.0</td>\n",
              "      <td>4</td>\n",
              "      <td>25.594644</td>\n",
              "      <td>6</td>\n",
              "      <td>2.584963</td>\n",
              "      <td>1.160558</td>\n",
              "    </tr>\n",
              "    <tr>\n",
              "      <th>...</th>\n",
              "      <td>...</td>\n",
              "      <td>...</td>\n",
              "      <td>...</td>\n",
              "      <td>...</td>\n",
              "      <td>...</td>\n",
              "      <td>...</td>\n",
              "    </tr>\n",
              "    <tr>\n",
              "      <th>98</th>\n",
              "      <td>0.0</td>\n",
              "      <td>4</td>\n",
              "      <td>0</td>\n",
              "      <td>100</td>\n",
              "      <td>6.643856</td>\n",
              "      <td>0.000000</td>\n",
              "    </tr>\n",
              "    <tr>\n",
              "      <th>99</th>\n",
              "      <td>0.0</td>\n",
              "      <td>4</td>\n",
              "      <td>0</td>\n",
              "      <td>101</td>\n",
              "      <td>6.658211</td>\n",
              "      <td>0.000000</td>\n",
              "    </tr>\n",
              "    <tr>\n",
              "      <th>100</th>\n",
              "      <td>0.0</td>\n",
              "      <td>4</td>\n",
              "      <td>51.189287</td>\n",
              "      <td>102</td>\n",
              "      <td>6.672425</td>\n",
              "      <td>0.000000</td>\n",
              "    </tr>\n",
              "    <tr>\n",
              "      <th>101</th>\n",
              "      <td>0.0</td>\n",
              "      <td>4</td>\n",
              "      <td>51.189287</td>\n",
              "      <td>103</td>\n",
              "      <td>6.686501</td>\n",
              "      <td>0.000000</td>\n",
              "    </tr>\n",
              "    <tr>\n",
              "      <th>102</th>\n",
              "      <td>0.0</td>\n",
              "      <td>4</td>\n",
              "      <td>28.523293</td>\n",
              "      <td>104</td>\n",
              "      <td>6.700440</td>\n",
              "      <td>0.000000</td>\n",
              "    </tr>\n",
              "  </tbody>\n",
              "</table>\n",
              "<p>103 rows × 6 columns</p>\n",
              "</div>"
            ],
            "text/plain": [
              "     relevance_score qid sum_tf_idf  idx     log_i      iDCG\n",
              "0                3.0   4  45.331988    2  1.000000  7.000000\n",
              "1                2.0   4  17.978469    3  1.584963  1.892789\n",
              "2                2.0   4   13.67676    4  2.000000  1.500000\n",
              "3                2.0   4  22.665994    5  2.321928  1.292030\n",
              "4                2.0   4  25.594644    6  2.584963  1.160558\n",
              "..               ...  ..        ...  ...       ...       ...\n",
              "98               0.0   4          0  100  6.643856  0.000000\n",
              "99               0.0   4          0  101  6.658211  0.000000\n",
              "100              0.0   4  51.189287  102  6.672425  0.000000\n",
              "101              0.0   4  51.189287  103  6.686501  0.000000\n",
              "102              0.0   4  28.523293  104  6.700440  0.000000\n",
              "\n",
              "[103 rows x 6 columns]"
            ]
          },
          "execution_count": 7,
          "metadata": {},
          "output_type": "execute_result"
        }
      ],
      "source": [
        "df[\"DCG\"] = (np.power(2, df[\"relevance_score\"]) - 1)/df[\"log_i\"]\n",
        "df_norm[\"iDCG\"] = (np.power(2, df_norm[\"relevance_score\"]) - 1)/df_norm[\"log_i\"]\n",
        "df_norm"
      ]
    },
    {
      "cell_type": "code",
      "execution_count": 8,
      "metadata": {
        "id": "3cwjB34uKk7e"
      },
      "outputs": [
        {
          "name": "stdout",
          "output_type": "stream",
          "text": [
            "Max DCG: 28.988467538734827\n"
          ]
        }
      ],
      "source": [
        "nDCG_normalize_term = df_norm[\"iDCG\"].sum()\n",
        "print(f\"Max DCG: {nDCG_normalize_term}\")"
      ]
    },
    {
      "cell_type": "code",
      "execution_count": 15,
      "metadata": {
        "id": "MoqzhRsDJZV5"
      },
      "outputs": [
        {
          "name": "stdout",
          "output_type": "stream",
          "text": [
            "Number of possible files:  19893497375938370599826047614905329896936840170566570588205180312704857992695193482412686565431050240000000000000000000000\n"
          ]
        }
      ],
      "source": [
        "import math\n",
        "num_possible_files = 1\n",
        "for reps in df[\"relevance_score\"].value_counts():\n",
        "    num_possible_files *= math.factorial(reps)\n",
        "print(\"Number of possible files: \", num_possible_files)"
      ]
    },
    {
      "cell_type": "code",
      "execution_count": 10,
      "metadata": {
        "id": "GnqhY7XrJZYr"
      },
      "outputs": [
        {
          "name": "stdout",
          "output_type": "stream",
          "text": [
            "nDCG at at 50:  0.35612494416255847\n",
            "nDCG at for the whole dataset:  0.5784691984582588\n"
          ]
        }
      ],
      "source": [
        "print(\"nDCG at at 50: \",df[\"DCG\"].iloc[:50].sum()/nDCG_normalize_term)\n",
        "print(\"nDCG at for the whole dataset: \",df[\"DCG\"].sum()/nDCG_normalize_term)"
      ]
    },
    {
      "cell_type": "code",
      "execution_count": 11,
      "metadata": {
        "id": "Jz9CXsYNJZa0"
      },
      "outputs": [
        {
          "data": {
            "text/html": [
              "<div>\n",
              "<style scoped>\n",
              "    .dataframe tbody tr th:only-of-type {\n",
              "        vertical-align: middle;\n",
              "    }\n",
              "\n",
              "    .dataframe tbody tr th {\n",
              "        vertical-align: top;\n",
              "    }\n",
              "\n",
              "    .dataframe thead th {\n",
              "        text-align: right;\n",
              "    }\n",
              "</style>\n",
              "<table border=\"1\" class=\"dataframe\">\n",
              "  <thead>\n",
              "    <tr style=\"text-align: right;\">\n",
              "      <th></th>\n",
              "      <th>relevance_score</th>\n",
              "    </tr>\n",
              "  </thead>\n",
              "  <tbody>\n",
              "    <tr>\n",
              "      <th>0</th>\n",
              "      <td>2.0</td>\n",
              "    </tr>\n",
              "    <tr>\n",
              "      <th>1</th>\n",
              "      <td>0.0</td>\n",
              "    </tr>\n",
              "    <tr>\n",
              "      <th>2</th>\n",
              "      <td>0.0</td>\n",
              "    </tr>\n",
              "    <tr>\n",
              "      <th>3</th>\n",
              "      <td>1.0</td>\n",
              "    </tr>\n",
              "    <tr>\n",
              "      <th>4</th>\n",
              "      <td>0.0</td>\n",
              "    </tr>\n",
              "    <tr>\n",
              "      <th>...</th>\n",
              "      <td>...</td>\n",
              "    </tr>\n",
              "    <tr>\n",
              "      <th>98</th>\n",
              "      <td>0.0</td>\n",
              "    </tr>\n",
              "    <tr>\n",
              "      <th>99</th>\n",
              "      <td>0.0</td>\n",
              "    </tr>\n",
              "    <tr>\n",
              "      <th>100</th>\n",
              "      <td>0.0</td>\n",
              "    </tr>\n",
              "    <tr>\n",
              "      <th>101</th>\n",
              "      <td>0.0</td>\n",
              "    </tr>\n",
              "    <tr>\n",
              "      <th>102</th>\n",
              "      <td>0.0</td>\n",
              "    </tr>\n",
              "  </tbody>\n",
              "</table>\n",
              "<p>103 rows × 1 columns</p>\n",
              "</div>"
            ],
            "text/plain": [
              "     relevance_score\n",
              "0                2.0\n",
              "1                0.0\n",
              "2                0.0\n",
              "3                1.0\n",
              "4                0.0\n",
              "..               ...\n",
              "98               0.0\n",
              "99               0.0\n",
              "100              0.0\n",
              "101              0.0\n",
              "102              0.0\n",
              "\n",
              "[103 rows x 1 columns]"
            ]
          },
          "execution_count": 11,
          "metadata": {},
          "output_type": "execute_result"
        }
      ],
      "source": [
        "df_docs = df.sort_values('sum_tf_idf', ascending=False)\n",
        "df_docs = df_docs[[\"relevance_score\"]]\n",
        "df_docs = df_docs.reset_index().drop([\"index\"], axis=1)\n",
        "df_docs"
      ]
    },
    {
      "cell_type": "code",
      "execution_count": 12,
      "metadata": {
        "id": "Y54K65n2JZdd"
      },
      "outputs": [
        {
          "data": {
            "text/html": [
              "<div>\n",
              "<style scoped>\n",
              "    .dataframe tbody tr th:only-of-type {\n",
              "        vertical-align: middle;\n",
              "    }\n",
              "\n",
              "    .dataframe tbody tr th {\n",
              "        vertical-align: top;\n",
              "    }\n",
              "\n",
              "    .dataframe thead th {\n",
              "        text-align: right;\n",
              "    }\n",
              "</style>\n",
              "<table border=\"1\" class=\"dataframe\">\n",
              "  <thead>\n",
              "    <tr style=\"text-align: right;\">\n",
              "      <th></th>\n",
              "      <th>relevance_score</th>\n",
              "    </tr>\n",
              "  </thead>\n",
              "  <tbody>\n",
              "    <tr>\n",
              "      <th>0</th>\n",
              "      <td>1</td>\n",
              "    </tr>\n",
              "    <tr>\n",
              "      <th>1</th>\n",
              "      <td>0</td>\n",
              "    </tr>\n",
              "    <tr>\n",
              "      <th>2</th>\n",
              "      <td>0</td>\n",
              "    </tr>\n",
              "    <tr>\n",
              "      <th>3</th>\n",
              "      <td>1</td>\n",
              "    </tr>\n",
              "    <tr>\n",
              "      <th>4</th>\n",
              "      <td>0</td>\n",
              "    </tr>\n",
              "    <tr>\n",
              "      <th>...</th>\n",
              "      <td>...</td>\n",
              "    </tr>\n",
              "    <tr>\n",
              "      <th>98</th>\n",
              "      <td>0</td>\n",
              "    </tr>\n",
              "    <tr>\n",
              "      <th>99</th>\n",
              "      <td>0</td>\n",
              "    </tr>\n",
              "    <tr>\n",
              "      <th>100</th>\n",
              "      <td>0</td>\n",
              "    </tr>\n",
              "    <tr>\n",
              "      <th>101</th>\n",
              "      <td>0</td>\n",
              "    </tr>\n",
              "    <tr>\n",
              "      <th>102</th>\n",
              "      <td>0</td>\n",
              "    </tr>\n",
              "  </tbody>\n",
              "</table>\n",
              "<p>103 rows × 1 columns</p>\n",
              "</div>"
            ],
            "text/plain": [
              "     relevance_score\n",
              "0                  1\n",
              "1                  0\n",
              "2                  0\n",
              "3                  1\n",
              "4                  0\n",
              "..               ...\n",
              "98                 0\n",
              "99                 0\n",
              "100                0\n",
              "101                0\n",
              "102                0\n",
              "\n",
              "[103 rows x 1 columns]"
            ]
          },
          "execution_count": 12,
          "metadata": {},
          "output_type": "execute_result"
        }
      ],
      "source": [
        "df_docs['relevance_score'] = df_docs['relevance_score'].apply(lambda x : 1 if x > 0 else 0)\n",
        "df_docs"
      ]
    },
    {
      "cell_type": "code",
      "execution_count": 13,
      "metadata": {},
      "outputs": [],
      "source": [
        "precs = []\n",
        "recs = []\n",
        "for i in range(1,len(df_docs)):\n",
        "    preck = np.count_nonzero(df_docs[\"relevance_score\"].iloc[:i].to_numpy() == 1)/i\n",
        "    reck = np.count_nonzero(df_docs[\"relevance_score\"].iloc[:i].to_numpy() == 1)/np.count_nonzero(df_docs[\"relevance_score\"].to_numpy() == 1)\n",
        "    precs.append(preck)\n",
        "    recs.append(reck)"
      ]
    },
    {
      "cell_type": "code",
      "execution_count": 14,
      "metadata": {
        "id": "oO8YC9feJZgL"
      },
      "outputs": [
        {
          "data": {
            "image/png": "[encoded data removed]",
            "text/plain": [
              "<Figure size 432x288 with 1 Axes>"
            ]
          },
          "metadata": {
            "needs_background": "light"
          },
          "output_type": "display_data"
        }
      ],
      "source": [
        "import matplotlib.pyplot as plt\n",
        "plt.scatter(recs, precs)\n",
        "plt.xlabel(\"Recall\")\n",
        "plt.ylabel(\"Precision\")\n",
        "plt.title(\"Precision-Recall Curve\")\n",
        "plt.show()"
      ]
    },
    {
      "cell_type": "code",
      "execution_count": null,
      "metadata": {
        "id": "148YNjPtH8TH"
      },
      "outputs": [],
      "source": [
        "!unzip /content/20_newsgroups.zip"
      ]
    },
    {
      "cell_type": "markdown",
      "metadata": {
        "id": "OQxUrQA7Abwj"
      },
      "source": [
        "# Q3"
      ]
    },
    {
      "cell_type": "code",
      "execution_count": 86,
      "metadata": {
        "id": "dmntlr8RAbwk"
      },
      "outputs": [],
      "source": [
        "def preprocess(line):\n",
        "  '''\n",
        "  Preprocess the data\n",
        "    - Lowercase\n",
        "    - Remove Extra Spaces\n",
        "    - Lemmatize using WordNetLemmatizer()\n",
        "    - Tokenize using RegexpTokenizer()\n",
        "    - Remove stopwords\n",
        "  '''\n",
        "  line = \" \".join(line.lower().split()) #lowercase and remove extra spaces\n",
        "  #line = line.apply(lambda x: nltk.word_tokenize(x)) #tokenize\n",
        "  line = [word for word in line.split() if not word in stopwords] #remove stopwords\n",
        "  line = [lemmatizer.lemmatize(word) for word in line] #lemmatize\n",
        "  line = tokenizer.tokenize(\" \".join(line)) #tokenize\n",
        "  return nltk.FreqDist(line)\n",
        "\n",
        "data_dict = {}\n",
        "doc_word_set = {}\n",
        "class_mapping = {'comp.graphics': 0, 'sci.med': 1, 'talk.politics.misc': 2, 'rec.sport.hockey': 3, 'sci.space': 4}\n",
        "\n",
        "for clas in class_mapping.keys():\n",
        "  doc_word_set[clas] = {}\n",
        "  for n, filee in enumerate(glob.glob(f'20_newsgroups/{clas}/*')):\n",
        "    with open(filee, \"r\", encoding='windows-1254', errors='ignore') as fp:\n",
        "      fp = fp.read()\n",
        "      freq_dict = preprocess(fp)\n",
        "    for i in freq_dict:\n",
        "      if i not in data_dict:\n",
        "        data_dict[i] = [([n, filee.split(\"/\")[-1], class_mapping[clas]], freq_dict[i]/len(freq_dict))]\n",
        "      else:\n",
        "        data_dict[i].append(([n, filee.split(\"/\")[-1], class_mapping[clas]], freq_dict[i]/len(freq_dict)))\n",
        "    doc_word_set[clas][filee.split(\"/\")[-1]] = set(list(freq_dict.keys()))"
      ]
    },
    {
      "cell_type": "code",
      "execution_count": 11,
      "metadata": {
        "id": "RKnPDT_LAbwl"
      },
      "outputs": [],
      "source": [
        "#save the index\n",
        "with open('news_frequency_index.pkl', 'wb') as fp:\n",
        "    pickle.dump(data_dict, fp)"
      ]
    },
    {
      "cell_type": "code",
      "execution_count": 87,
      "metadata": {
        "id": "HY4KmtLLAbwl"
      },
      "outputs": [],
      "source": [
        "with open('news_frequency_index.pkl', 'rb') as fp:\n",
        "    data_dict = pickle.load(fp)"
      ]
    },
    {
      "cell_type": "code",
      "execution_count": 88,
      "metadata": {
        "id": "WGOYQ8UsAbwm"
      },
      "outputs": [],
      "source": [
        "vocab = list(data_dict.keys())\n",
        "tf_idf_mat = np.zeros(len(vocab))\n",
        "num_classes = 5\n",
        "\n",
        "for n, i in enumerate(list(data_dict.keys())):\n",
        "    num_different_classes = len(np.unique(np.array([x[0][-1] for x in data_dict[i]])))\n",
        "    num_occurences = sum([x[1] for x in data_dict[i]])\n",
        "    tf_idf_mat[n] = num_occurences * np.log(num_classes/num_different_classes)"
      ]
    },
    {
      "cell_type": "code",
      "execution_count": 89,
      "metadata": {
        "id": "rTTF7x5BE4WY"
      },
      "outputs": [],
      "source": [
        "def eval_metrics(y_pred, y_test, binary=False, oseru_tonkachi=False):\n",
        "    \"\"\"\n",
        "    Custom implementation to calculate metrics for for a trained model\n",
        "    binary: True if data has binary labels, false otherwise\n",
        "    \"\"\"\n",
        "    if(oseru_tonkachi):\n",
        "        y_test =np.argmax(y_test, axis=1)\n",
        "        y_test = np.reshape(y_test,(-1,1))\n",
        "        y_pred =np.argmax(y_pred, axis=1)\n",
        "        y_pred = np.reshape(y_pred,(-1,1))\n",
        "    if(binary):\n",
        "        accuracy = (np.sum(y_pred==y_test))/y_pred.shape[0]\n",
        "        fn = np.sum((y_pred==0) & (y_test==1))\n",
        "        fp = np.sum((y_pred==1) & (y_test==0))\n",
        "        tn = np.sum((y_pred==0) & (y_test==0))\n",
        "        tp = np.sum((y_pred==1) & (y_test==1))\n",
        "        precision = tp/(tp+fp)\n",
        "        recall = tp/(tp+fn)\n",
        "        f1_score = 2*tp/((2*tp)+fp+fn)\n",
        "        print(tp, tn, fp, fn, \" < - Positives & Negs\")\n",
        "        print(precision, \" prec\")\n",
        "        print(recall, \" rec\")\n",
        "        print(accuracy, \" acc\")\n",
        "        print(f1_score, \" f1\")\n",
        "    else:\n",
        "        tpi = []\n",
        "        tni = []\n",
        "        fpi = []\n",
        "        fni = []\n",
        "        mac_prec = []\n",
        "        mac_rec = []\n",
        "        for i in np.unique(y_test):\n",
        "            fn = np.sum((y_pred!=i) & (y_test==i))\n",
        "            fp = np.sum((y_pred==i) & (y_test!=i))\n",
        "            tn = np.sum((y_pred!=i) & (y_test!=i))\n",
        "            tp = np.sum((y_pred==i) & (y_test==i))\n",
        "            tpi.append(tp)\n",
        "            tni.append(tn)\n",
        "            fpi.append(fp)\n",
        "            fni.append(fn)\n",
        "            mac_prec.append(tp/(tp+fp))\n",
        "            mac_rec.append(tp/(tp+fn))\n",
        "        micro_precision = sum(tpi)/(sum(tpi)+sum(fpi))\n",
        "        micro_recall = sum(tpi)/(sum(tpi)+sum(fni))\n",
        "        micro_f1 = 2*((micro_precision*micro_recall)/(micro_precision+micro_recall))\n",
        "        macro_precision = sum(mac_prec)/len(mac_prec)\n",
        "        macro_recall = sum(mac_rec)/len(mac_rec)\n",
        "        conf = confusion_matrix_2(y_pred, y_test)\n",
        "        acc = sum([conf[i,i] for i in range(conf.shape[0])])/np.sum(conf)\n",
        "        print(f\"micro_precision {micro_precision}, micro_recall {micro_recall}, micro_f1 {micro_f1}, macro_precision {macro_precision}, macro_recall {macro_recall}, accuracy {acc}\")\n",
        "        print(conf)\n",
        "\n",
        "\n",
        "def confusion_matrix_2(y_pred, y_test):\n",
        "    \"\"\"\n",
        "    Prints confusion matrix\n",
        "    \"\"\"\n",
        "    num_classes = np.unique(y_test)\n",
        "    conf = np.zeros((len(num_classes), len(num_classes)))\n",
        "    for actual in num_classes:\n",
        "        for pred in num_classes:\n",
        "            conf[pred, actual] = np.sum((y_pred==pred) & (y_test==actual))\n",
        "    return conf"
      ]
    },
    {
      "cell_type": "code",
      "execution_count": 90,
      "metadata": {
        "id": "ZLLNCQ0_Abwm"
      },
      "outputs": [],
      "source": [
        "k = 150\n",
        "\n",
        "class_vocab_list = {'comp.graphics': [], 'sci.med': [], 'talk.politics.misc': [], 'rec.sport.hockey': [], 'sci.space': []}\n",
        "\n",
        "x = []\n",
        "y = []\n",
        "for clas in doc_word_set:\n",
        "    class_word_set = set([word for doc in doc_word_set[clas] for word in doc_word_set[clas][doc]])\n",
        "    tf_icf_pair = [(tf_idf_mat[vocab.index(word)], word) for word in class_word_set]\n",
        "    heapq.heapify(tf_icf_pair)\n",
        "    class_vocab_list[clas] = [pair[1] for pair in heapq.nlargest(k, tf_icf_pair)]\n",
        "\n",
        "effective_vocab = list(set(class_vocab_list['comp.graphics'] + class_vocab_list['sci.med'] + class_vocab_list['talk.politics.misc'] + class_vocab_list['rec.sport.hockey'] + class_vocab_list['sci.space']))\n",
        "for clas in doc_word_set:\n",
        "    for doc in doc_word_set[clas]:\n",
        "        feature_list = np.zeros((len(effective_vocab)))\n",
        "        for word in set(doc_word_set[clas][doc]).intersection(set(class_vocab_list[clas])):\n",
        "            feature_list[effective_vocab.index(word)] = tf_idf_mat[effective_vocab.index(word)]\n",
        "        x.append(feature_list)\n",
        "        y.append(class_mapping[clas])\n",
        "        "
      ]
    },
    {
      "cell_type": "code",
      "execution_count": 91,
      "metadata": {
        "id": "7vBBTQBkAbwn"
      },
      "outputs": [],
      "source": [
        "x = np.array(x)\n",
        "y = np.array(y)"
      ]
    },
    {
      "cell_type": "code",
      "execution_count": 92,
      "metadata": {
        "colab": {
          "base_uri": "https://localhost:8080/"
        },
        "id": "Rlx2KyPeH31A",
        "outputId": "e1d18016-2cae-48d7-a810-f9a2d586744b"
      },
      "outputs": [
        {
          "data": {
            "text/plain": [
              "array([[0.        , 0.        , 0.        , ..., 0.        , 0.        ,\n",
              "        0.        ],\n",
              "       [0.        , 0.        , 0.        , ..., 0.        , 0.        ,\n",
              "        0.04411412],\n",
              "       [0.        , 0.        , 0.        , ..., 0.        , 0.        ,\n",
              "        0.        ],\n",
              "       ...,\n",
              "       [0.        , 0.        , 0.        , ..., 0.        , 0.        ,\n",
              "        0.04411412],\n",
              "       [0.        , 0.        , 0.        , ..., 0.        , 0.        ,\n",
              "        0.04411412],\n",
              "       [0.        , 0.        , 0.        , ..., 0.        , 0.        ,\n",
              "        0.04411412]])"
            ]
          },
          "execution_count": 92,
          "metadata": {},
          "output_type": "execute_result"
        }
      ],
      "source": [
        "x"
      ]
    },
    {
      "cell_type": "code",
      "execution_count": 93,
      "metadata": {
        "colab": {
          "base_uri": "https://localhost:8080/"
        },
        "id": "Taz4eZLjGC8_",
        "outputId": "bf9000df-e8d1-4ffd-f2f4-417504d59af0"
      },
      "outputs": [
        {
          "data": {
            "text/plain": [
              "(5000, 479)"
            ]
          },
          "execution_count": 93,
          "metadata": {},
          "output_type": "execute_result"
        }
      ],
      "source": [
        "x.shape"
      ]
    },
    {
      "cell_type": "markdown",
      "metadata": {
        "id": "0NdyJTM_8Bp5"
      },
      "source": [
        "## 80-20 Split"
      ]
    },
    {
      "cell_type": "code",
      "execution_count": 94,
      "metadata": {
        "id": "7spIZ77pAbwp"
      },
      "outputs": [],
      "source": [
        "filenames = np.array(glob.glob('20_newsgroups/comp.graphics/*') + glob.glob('20_newsgroups/sci.med/*') + glob.glob('20_newsgroups/talk.politics.misc/*') + glob.glob('20_newsgroups/rec.sport.hockey/*') + glob.glob('20_newsgroups/sci.space/*'))\n",
        "train_size = 0.8\n",
        "\n",
        "train = np.random.choice(range(filenames.shape[0]), int(train_size*filenames.shape[0]), replace=False)\n",
        "test = list(set(range(filenames.shape[0])) - set(train))\n",
        "\n",
        "X_train = x[train]\n",
        "y_train = y[train]\n",
        "X_test = x[test]\n",
        "y_test = y[test]"
      ]
    },
    {
      "cell_type": "code",
      "execution_count": 95,
      "metadata": {
        "colab": {
          "base_uri": "https://localhost:8080/"
        },
        "id": "SaYYtMFZAbws",
        "outputId": "c5d4ae5c-5959-4015-fef3-d222c7794735"
      },
      "outputs": [
        {
          "name": "stderr",
          "output_type": "stream",
          "text": [
            "/usr/local/lib/python3.7/dist-packages/ipykernel_launcher.py:74: RuntimeWarning: divide by zero encountered in log\n"
          ]
        },
        {
          "name": "stdout",
          "output_type": "stream",
          "text": [
            "micro_precision 0.884, micro_recall 0.884, micro_f1 0.884, macro_precision 0.8977476616454594, macro_recall 0.8829267832622344, accuracy 0.884\n",
            "[[170.   1.  39.   0.   2.]\n",
            " [  2. 133.   0.   1.   1.]\n",
            " [  4.   7. 166.   0.   0.]\n",
            " [  0.   0.   0. 208.   0.]\n",
            " [  3.  54.   2.   0. 207.]]\n",
            "None\n"
          ]
        }
      ],
      "source": [
        "prior_probs = {} # Prior probablities of classe\n",
        "num_classes = 0     # Gets updated to number of classes\n",
        "mean_std = {}       # Gets updated after training, stores mean and std dev of each feature classwise\n",
        "best_class_guess = 0 # Class with highes prior probability, used during prediction\n",
        "\n",
        "def prior(y):\n",
        "    \"\"\"\n",
        "    Calculates Prior probabilites for classes\n",
        "    \"\"\"\n",
        "    probs = {}\n",
        "    for i in np.unique(y):\n",
        "        probs[i] = np.sum(y==i)/len(y)\n",
        "    return probs\n",
        "\n",
        "def seperate_samples(X, y):\n",
        "    \"\"\"\n",
        "    Separates the samples into classes\n",
        "    \"\"\"\n",
        "    classes = np.unique(y)\n",
        "    temp = {}\n",
        "    for i in classes:\n",
        "        this_class = X[np.where(y==i)[0]] # Get sample which belongs to class i\n",
        "        temp[i] = this_class\n",
        "    return temp\n",
        "\n",
        "def calc_mean_std(X):\n",
        "    \"\"\"\n",
        "    Calculate Mean and Stdev for each feature\n",
        "    \"\"\"\n",
        "    values = []\n",
        "    means = np.mean(X, axis=0)\n",
        "    stds = np.std(X, axis=0)\n",
        "    values.append(means)\n",
        "    values.append(stds)\n",
        "    return values\n",
        "\n",
        "def classwise_mean_std(X, y):\n",
        "    \"\"\"\n",
        "    Calculate mean, stdev of features class wise\n",
        "    returns a classwise dictionary\n",
        "    \"\"\"\n",
        "    separated_classes = seperate_samples(X,y)\n",
        "    mean_stds = []\n",
        "    class_dict = {}\n",
        "    for i in separated_classes:\n",
        "        temp = calc_mean_std(separated_classes[i])\n",
        "        class_dict[i] = temp\n",
        "    return class_dict\n",
        "\n",
        "def fit(X, y):\n",
        "    \"\"\"\n",
        "    Wrapper to calculate classwise mean and stdev\n",
        "    \"\"\"\n",
        "    to_ret = classwise_mean_std(X, y)\n",
        "    return to_ret\n",
        "\n",
        "def gaussian(x, mu, sigma):\n",
        "    \"\"\"\n",
        "    Calculates the Gaussian Likelihood.\n",
        "    \"\"\"\n",
        "    exponent = exp(-((x-mu)**2/(2*(sigma+1e-6)**2))) # Added 1e-6 for the case when sigma is 0\n",
        "    return (1/(sqrt(2*pi)*(sigma+1e-6)))*exponent\n",
        "\n",
        "def pred_helper(X):\n",
        "    \"\"\"\n",
        "    Predicts class for each 1 x num_features sample array.\n",
        "    Returns best class guess\n",
        "    \"\"\"\n",
        "    class_guess = best_class_guess # Set to the class with max apriori probability\n",
        "    best_sum = -math.inf\n",
        "    for i in range(num_classes):\n",
        "        temp_sum = np.log(prior_probs[i])\n",
        "        for j in range(len(X)):\n",
        "            adder = np.log(gaussian(X[j], mean_std[i][0][j], mean_std[i][1][j]))\n",
        "            if(adder!=None):\n",
        "                temp_sum+=adder\n",
        "        if(temp_sum>best_sum):\n",
        "            best_sum = temp_sum\n",
        "            class_guess = i\n",
        "    return class_guess\n",
        "\n",
        "def predict(X):\n",
        "    \"\"\"\n",
        "    Wrapper for pred_helper function.\n",
        "    Returns predictions\n",
        "    \"\"\" \n",
        "    y_pred = []\n",
        "    for i in X:\n",
        "        lolz = pred_helper(i)\n",
        "        y_pred.append(lolz)\n",
        "    return y_pred\n",
        "\n",
        "prior_probs = prior(y)\n",
        "num_classes = len(np.unique(y))\n",
        "for i in prior_probs:\n",
        "    if(prior_probs[i]>best_class_guess):\n",
        "        best_class_guess = i\n",
        "mean_std = fit(X_train,y_train)\n",
        "y_pred = predict(X_test)     \n",
        "print(eval_metrics(y_pred, y_test))   "
      ]
    },
    {
      "cell_type": "markdown",
      "metadata": {
        "id": "rMUa4I_o8Bp7"
      },
      "source": [
        "## 70-30"
      ]
    },
    {
      "cell_type": "code",
      "execution_count": 96,
      "metadata": {
        "colab": {
          "base_uri": "https://localhost:8080/"
        },
        "id": "gLbndTfh8Bp8",
        "outputId": "802452a2-23a3-4233-9c3c-a2003be328be"
      },
      "outputs": [
        {
          "name": "stderr",
          "output_type": "stream",
          "text": [
            "/usr/local/lib/python3.7/dist-packages/ipykernel_launcher.py:85: RuntimeWarning: divide by zero encountered in log\n"
          ]
        },
        {
          "name": "stdout",
          "output_type": "stream",
          "text": [
            "micro_precision 0.828, micro_recall 0.828, micro_f1 0.828, macro_precision 0.8673011395565181, macro_recall 0.8308409607375526, accuracy 0.828\n",
            "[[189.   1.   0.   0.   4.]\n",
            " [  1. 191.   3.   2.   4.]\n",
            " [112.  24. 287.   0.   4.]\n",
            " [  0.   0.   0. 282.   0.]\n",
            " [  5.  88.  10.   0. 293.]]\n",
            "None\n"
          ]
        }
      ],
      "source": [
        "filenames = np.array(glob.glob('20_newsgroups/comp.graphics/*') + glob.glob('20_newsgroups/sci.med/*') + glob.glob('20_newsgroups/talk.politics.misc/*') + glob.glob('20_newsgroups/rec.sport.hockey/*') + glob.glob('20_newsgroups/sci.space/*'))\n",
        "train_size = 0.7\n",
        "\n",
        "train = np.random.choice(range(filenames.shape[0]), int(train_size*filenames.shape[0]), replace=False)\n",
        "test = list(set(range(filenames.shape[0])) - set(train))\n",
        "\n",
        "X_train = x[train]\n",
        "y_train = y[train]\n",
        "X_test = x[test]\n",
        "y_test = y[test]\n",
        "\n",
        "prior_probs = {} # Prior probablities of classe\n",
        "num_classes = 0     # Gets updated to number of classes\n",
        "mean_std = {}       # Gets updated after training, stores mean and std dev of each feature classwise\n",
        "best_class_guess = 0 # Class with highes prior probability, used during prediction\n",
        "\n",
        "def prior(y):\n",
        "    \"\"\"\n",
        "    Calculates Prior probabilites for classes\n",
        "    \"\"\"\n",
        "    probs = {}\n",
        "    for i in np.unique(y):\n",
        "        probs[i] = np.sum(y==i)/len(y)\n",
        "    return probs\n",
        "\n",
        "def seperate_samples(X, y):\n",
        "    \"\"\"\n",
        "    Separates the samples into classes\n",
        "    \"\"\"\n",
        "    classes = np.unique(y)\n",
        "    temp = {}\n",
        "    for i in classes:\n",
        "        this_class = X[np.where(y==i)[0]] # Get sample which belongs to class i\n",
        "        temp[i] = this_class\n",
        "    return temp\n",
        "\n",
        "def calc_mean_std(X):\n",
        "    \"\"\"\n",
        "    Calculate Mean and Stdev for each feature\n",
        "    \"\"\"\n",
        "    values = []\n",
        "    means = np.mean(X, axis=0)\n",
        "    stds = np.std(X, axis=0)\n",
        "    values.append(means)\n",
        "    values.append(stds)\n",
        "    return values\n",
        "\n",
        "def classwise_mean_std(X, y):\n",
        "    \"\"\"\n",
        "    Calculate mean, stdev of features class wise\n",
        "    returns a classwise dictionary\n",
        "    \"\"\"\n",
        "    separated_classes = seperate_samples(X,y)\n",
        "    mean_stds = []\n",
        "    class_dict = {}\n",
        "    for i in separated_classes:\n",
        "        temp = calc_mean_std(separated_classes[i])\n",
        "        class_dict[i] = temp\n",
        "    return class_dict\n",
        "\n",
        "def fit(X, y):\n",
        "    \"\"\"\n",
        "    Wrapper to calculate classwise mean and stdev\n",
        "    \"\"\"\n",
        "    to_ret = classwise_mean_std(X, y)\n",
        "    return to_ret\n",
        "\n",
        "def gaussian(x, mu, sigma):\n",
        "    \"\"\"\n",
        "    Calculates the Gaussian Likelihood.\n",
        "    \"\"\"\n",
        "    exponent = exp(-((x-mu)**2/(2*(sigma+1e-6)**2))) # Added 1e-6 for the case when sigma is 0\n",
        "    return (1/(sqrt(2*pi)*(sigma+1e-6)))*exponent\n",
        "\n",
        "def pred_helper(X):\n",
        "    \"\"\"\n",
        "    Predicts class for each 1 x num_features sample array.\n",
        "    Returns best class guess\n",
        "    \"\"\"\n",
        "    class_guess = best_class_guess # Set to the class with max apriori probability\n",
        "    best_sum = -math.inf\n",
        "    for i in range(num_classes):\n",
        "        temp_sum = np.log(prior_probs[i])\n",
        "        for j in range(len(X)):\n",
        "            adder = np.log(gaussian(X[j], mean_std[i][0][j], mean_std[i][1][j]))\n",
        "            if(adder!=None):\n",
        "                temp_sum+=adder\n",
        "        if(temp_sum>best_sum):\n",
        "            best_sum = temp_sum\n",
        "            class_guess = i\n",
        "    return class_guess\n",
        "\n",
        "def predict(X):\n",
        "    \"\"\"\n",
        "    Wrapper for pred_helper function.\n",
        "    Returns predictions\n",
        "    \"\"\" \n",
        "    y_pred = []\n",
        "    for i in X:\n",
        "        lolz = pred_helper(i)\n",
        "        y_pred.append(lolz)\n",
        "    return y_pred\n",
        "\n",
        "prior_probs = prior(y)\n",
        "num_classes = len(np.unique(y))\n",
        "for i in prior_probs:\n",
        "    if(prior_probs[i]>best_class_guess):\n",
        "        best_class_guess = i\n",
        "mean_std = fit(X_train,y_train)\n",
        "y_pred = predict(X_test)        \n",
        "print(eval_metrics(y_pred, y_test))   "
      ]
    },
    {
      "cell_type": "markdown",
      "metadata": {
        "id": "k_Icxqun8Bp9"
      },
      "source": [
        "## 50-50"
      ]
    },
    {
      "cell_type": "code",
      "execution_count": 97,
      "metadata": {
        "colab": {
          "base_uri": "https://localhost:8080/"
        },
        "id": "D41Vhi9U8Bp9",
        "outputId": "1c83cffc-8d29-4996-d82a-5b150413ee1a"
      },
      "outputs": [
        {
          "name": "stderr",
          "output_type": "stream",
          "text": [
            "/usr/local/lib/python3.7/dist-packages/ipykernel_launcher.py:85: RuntimeWarning: divide by zero encountered in log\n"
          ]
        },
        {
          "name": "stdout",
          "output_type": "stream",
          "text": [
            "micro_precision 0.8592, micro_recall 0.8592, micro_f1 0.8592000000000001, macro_precision 0.8756760823617826, macro_recall 0.860178778556391, accuracy 0.8592\n",
            "[[467.   3. 103.   0.   1.]\n",
            " [  7. 329.   4.   4.   5.]\n",
            " [  7.  33. 369.   0.   4.]\n",
            " [  0.   0.   0. 497.   0.]\n",
            " [ 21. 152.   8.   0. 486.]]\n",
            "None\n"
          ]
        }
      ],
      "source": [
        "filenames = np.array(glob.glob('20_newsgroups/comp.graphics/*') + glob.glob('20_newsgroups/sci.med/*') + glob.glob('20_newsgroups/talk.politics.misc/*') + glob.glob('20_newsgroups/rec.sport.hockey/*') + glob.glob('20_newsgroups/sci.space/*'))\n",
        "train_size = 0.5\n",
        "\n",
        "train = np.random.choice(range(filenames.shape[0]), int(train_size*filenames.shape[0]), replace=False)\n",
        "test = list(set(range(filenames.shape[0])) - set(train))\n",
        "\n",
        "X_train = x[train]\n",
        "y_train = y[train]\n",
        "X_test = x[test]\n",
        "y_test = y[test]\n",
        "\n",
        "prior_probs = {} # Prior probablities of classe\n",
        "num_classes = 0     # Gets updated to number of classes\n",
        "mean_std = {}       # Gets updated after training, stores mean and std dev of each feature classwise\n",
        "best_class_guess = 0 # Class with highes prior probability, used during prediction\n",
        "\n",
        "def prior(y):\n",
        "    \"\"\"\n",
        "    Calculates Prior probabilites for classes\n",
        "    \"\"\"\n",
        "    probs = {}\n",
        "    for i in np.unique(y):\n",
        "        probs[i] = np.sum(y==i)/len(y)\n",
        "    return probs\n",
        "\n",
        "def seperate_samples(X, y):\n",
        "    \"\"\"\n",
        "    Separates the samples into classes\n",
        "    \"\"\"\n",
        "    classes = np.unique(y)\n",
        "    temp = {}\n",
        "    for i in classes:\n",
        "        this_class = X[np.where(y==i)[0]] # Get sample which belongs to class i\n",
        "        temp[i] = this_class\n",
        "    return temp\n",
        "\n",
        "def calc_mean_std(X):\n",
        "    \"\"\"\n",
        "    Calculate Mean and Stdev for each feature\n",
        "    \"\"\"\n",
        "    values = []\n",
        "    means = np.mean(X, axis=0)\n",
        "    stds = np.std(X, axis=0)\n",
        "    values.append(means)\n",
        "    values.append(stds)\n",
        "    return values\n",
        "\n",
        "def classwise_mean_std(X, y):\n",
        "    \"\"\"\n",
        "    Calculate mean, stdev of features class wise\n",
        "    returns a classwise dictionary\n",
        "    \"\"\"\n",
        "    separated_classes = seperate_samples(X,y)\n",
        "    mean_stds = []\n",
        "    class_dict = {}\n",
        "    for i in separated_classes:\n",
        "        temp = calc_mean_std(separated_classes[i])\n",
        "        class_dict[i] = temp\n",
        "    return class_dict\n",
        "\n",
        "def fit(X, y):\n",
        "    \"\"\"\n",
        "    Wrapper to calculate classwise mean and stdev\n",
        "    \"\"\"\n",
        "    to_ret = classwise_mean_std(X, y)\n",
        "    return to_ret\n",
        "\n",
        "def gaussian(x, mu, sigma):\n",
        "    \"\"\"\n",
        "    Calculates the Gaussian Likelihood.\n",
        "    \"\"\"\n",
        "    exponent = exp(-((x-mu)**2/(2*(sigma+1e-6)**2))) # Added 1e-6 for the case when sigma is 0\n",
        "    return (1/(sqrt(2*pi)*(sigma+1e-6)))*exponent\n",
        "\n",
        "def pred_helper(X):\n",
        "    \"\"\"\n",
        "    Predicts class for each 1 x num_features sample array.\n",
        "    Returns best class guess\n",
        "    \"\"\"\n",
        "    class_guess = best_class_guess # Set to the class with max apriori probability\n",
        "    best_sum = -math.inf\n",
        "    for i in range(num_classes):\n",
        "        temp_sum = np.log(prior_probs[i])\n",
        "        for j in range(len(X)):\n",
        "            adder = np.log(gaussian(X[j], mean_std[i][0][j], mean_std[i][1][j]))\n",
        "            if(adder!=None):\n",
        "                temp_sum+=adder\n",
        "        if(temp_sum>best_sum):\n",
        "            best_sum = temp_sum\n",
        "            class_guess = i\n",
        "    return class_guess\n",
        "\n",
        "def predict(X):\n",
        "    \"\"\"\n",
        "    Wrapper for pred_helper function.\n",
        "    Returns predictions\n",
        "    \"\"\" \n",
        "    y_pred = []\n",
        "    for i in X:\n",
        "        lolz = pred_helper(i)\n",
        "        y_pred.append(lolz)\n",
        "    return y_pred\n",
        "\n",
        "prior_probs = prior(y)\n",
        "num_classes = len(np.unique(y))\n",
        "for i in prior_probs:\n",
        "    if(prior_probs[i]>best_class_guess):\n",
        "        best_class_guess = i\n",
        "mean_std = fit(X_train,y_train)\n",
        "y_pred = predict(X_test)        \n",
        "print(eval_metrics(y_pred, y_test))   \n"
      ]
    },
    {
      "cell_type": "code",
      "execution_count": 97,
      "metadata": {
        "id": "JAZUi8G2PKHf"
      },
      "outputs": [],
      "source": []
    }
  ],
  "metadata": {
    "colab": {
      "collapsed_sections": [],
      "name": "IR_A2_Final.ipynb",
      "provenance": []
    },
    "interpreter": {
      "hash": "5259a5ddbbbf560fa7fca35d254d2293fd3cfc618e59deb3b9bb88fde2e4da52"
    },
    "kernelspec": {
      "display_name": "Python 3.10.0 ('myenv')",
      "language": "python",
      "name": "python3"
    },
    "language_info": {
      "codemirror_mode": {
        "name": "ipython",
        "version": 3
      },
      "file_extension": ".py",
      "mimetype": "text/x-python",
      "name": "python",
      "nbconvert_exporter": "python",
      "pygments_lexer": "ipython3",
      "version": "3.9.2"
    },
    "orig_nbformat": 4
  },
  "nbformat": 4,
  "nbformat_minor": 0
}
